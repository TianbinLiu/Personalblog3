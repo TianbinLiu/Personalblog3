{
 "cells": [
  {
   "cell_type": "markdown",
   "metadata": {},
   "source": [
    "---\n",
    "toc: true\n",
    "comments: false\n",
    "layout: post\n",
    "title: Week 6 Web Programming Basics, HTML, Data Type, DOM, Javascript, JS Debugging Hacks\n",
    "type: hacks\n",
    "---"
   ]
  },
  {
   "cell_type": "markdown",
   "metadata": {},
   "source": [
    "## HTML Hacks"
   ]
  },
  {
   "cell_type": "code",
   "execution_count": null,
   "metadata": {},
   "outputs": [
    {
     "ename": "",
     "evalue": "",
     "output_type": "error",
     "traceback": [
      "\u001b[1;31mFailed to start the Kernel. \n",
      "\u001b[1;31mnode:internal/modules/cjs/loader:1325\n",
      "\u001b[1;31m  return process.dlopen(module, path.toNamespacedPath(filename));\n",
      "\u001b[1;31m                 ^\n",
      "\u001b[1;31m\n",
      "\u001b[1;31mError: The module '/home/tianbinliu/anaconda3/lib/node_modules/ijavascript/node_modules/zeromq/build/Release/zmq.node'\n",
      "\u001b[1;31mwas compiled against a different Node.js version using\n",
      "\u001b[1;31mNODE_MODULE_VERSION 48. This version of Node.js requires\n",
      "\u001b[1;31mNODE_MODULE_VERSION 111. Please try re-compiling or re-installing\n",
      "\u001b[1;31mthe module (for instance, using `npm rebuild` or `npm install`).\n",
      "\u001b[1;31m    at Module._extensions..node (node:internal/modules/cjs/loader:1325:18)\n",
      "\u001b[1;31m    at Module.load (node:internal/modules/cjs/loader:1096:32)\n",
      "\u001b[1;31m    at Module._load (node:internal/modules/cjs/loader:935:12)\n",
      "\u001b[1;31m    at Module.require (node:internal/modules/cjs/loader:1120:19)\n",
      "\u001b[1;31m    at require (node:internal/modules/helpers:112:18)\n",
      "\u001b[1;31m    at load (/home/tianbinliu/anaconda3/lib/node_modules/ijavascript/node_modules/node-gyp-build/index.js:22:10)\n",
      "\u001b[1;31m    at Object.<anonymous> (/home/tianbinliu/anaconda3/lib/node_modules/ijavascript/node_modules/zeromq/binding.js:1:43)\n",
      "\u001b[1;31m    at Module._compile (node:internal/modules/cjs/loader:1239:14)\n",
      "\u001b[1;31m    at Module._extensions..js (node:internal/modules/cjs/loader:1293:10)\n",
      "\u001b[1;31m    at Module.load (node:internal/modules/cjs/loader:1096:32) {\n",
      "\u001b[1;31m  code: 'ERR_DLOPEN_FAILED'\n",
      "\u001b[1;31m}\n",
      "\u001b[1;31m\n",
      "\u001b[1;31mNode.js v19.4.0. \n",
      "\u001b[1;31mView Jupyter <a href='command:jupyter.viewOutput'>log</a> for further details."
     ]
    }
   ],
   "source": [
    "%%html\n",
    "<div>\n",
    "    <p>p element</p>\n",
    "    <button>button</button>\n",
    "</div>\n"
   ]
  },
  {
   "cell_type": "markdown",
   "metadata": {},
   "source": [
    "%%html\n",
    "<div>\n",
    "    <a href=\"https://tianbinliu.github.io/Personalblog3/2023/09/21/Sprite_IPYNB_2_.html\">Random link</a><br>\n",
    "    <a href=\"https://tianbinliu.github.io/Personalblog3/2023/09/21/Sprite_IPYNB_2_.html\">Random link</a>\n",
    "    <p>You know what it is</p>\n",
    "<div>"
   ]
  },
  {
   "cell_type": "markdown",
   "metadata": {},
   "source": [
    "## Data Types Hacks"
   ]
  },
  {
   "cell_type": "code",
   "execution_count": null,
   "metadata": {},
   "outputs": [
    {
     "ename": "",
     "evalue": "",
     "output_type": "error",
     "traceback": [
      "\u001b[1;31mFailed to start the Kernel. \n",
      "\u001b[1;31mnode:internal/modules/cjs/loader:1325\n",
      "\u001b[1;31m  return process.dlopen(module, path.toNamespacedPath(filename));\n",
      "\u001b[1;31m                 ^\n",
      "\u001b[1;31m\n",
      "\u001b[1;31mError: The module '/home/tianbinliu/anaconda3/lib/node_modules/ijavascript/node_modules/zeromq/build/Release/zmq.node'\n",
      "\u001b[1;31mwas compiled against a different Node.js version using\n",
      "\u001b[1;31mNODE_MODULE_VERSION 48. This version of Node.js requires\n",
      "\u001b[1;31mNODE_MODULE_VERSION 111. Please try re-compiling or re-installing\n",
      "\u001b[1;31mthe module (for instance, using `npm rebuild` or `npm install`).\n",
      "\u001b[1;31m    at Module._extensions..node (node:internal/modules/cjs/loader:1325:18)\n",
      "\u001b[1;31m    at Module.load (node:internal/modules/cjs/loader:1096:32)\n",
      "\u001b[1;31m    at Module._load (node:internal/modules/cjs/loader:935:12)\n",
      "\u001b[1;31m    at Module.require (node:internal/modules/cjs/loader:1120:19)\n",
      "\u001b[1;31m    at require (node:internal/modules/helpers:112:18)\n",
      "\u001b[1;31m    at load (/home/tianbinliu/anaconda3/lib/node_modules/ijavascript/node_modules/node-gyp-build/index.js:22:10)\n",
      "\u001b[1;31m    at Object.<anonymous> (/home/tianbinliu/anaconda3/lib/node_modules/ijavascript/node_modules/zeromq/binding.js:1:43)\n",
      "\u001b[1;31m    at Module._compile (node:internal/modules/cjs/loader:1239:14)\n",
      "\u001b[1;31m    at Module._extensions..js (node:internal/modules/cjs/loader:1293:10)\n",
      "\u001b[1;31m    at Module.load (node:internal/modules/cjs/loader:1096:32) {\n",
      "\u001b[1;31m  code: 'ERR_DLOPEN_FAILED'\n",
      "\u001b[1;31m}\n",
      "\u001b[1;31m\n",
      "\u001b[1;31mNode.js v19.4.0. \n",
      "\u001b[1;31mView Jupyter <a href='command:jupyter.viewOutput'>log</a> for further details."
     ]
    }
   ],
   "source": [
    "let person = {\n",
    "    name:\"Tianbin\",\n",
    "    age:18,\n",
    "    currentclasses: \"CSSE\",\n",
    "    interests: [\"Video game, coding\"],\n",
    "    gender: \"male\",\n",
    "    sport: \"soccer\"\n",
    "}\n",
    "\n",
    "console.log(person);"
   ]
  }
 ],
 "metadata": {
  "kernelspec": {
   "display_name": "JavaScript (Node.js)",
   "language": "javascript",
   "name": "javascript"
  },
  "language_info": {
   "name": "javascript"
  },
  "orig_nbformat": 4
 },
 "nbformat": 4,
 "nbformat_minor": 2
}
