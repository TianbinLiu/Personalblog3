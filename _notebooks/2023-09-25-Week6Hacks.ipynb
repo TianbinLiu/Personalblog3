{
 "cells": [
  {
   "cell_type": "markdown",
   "metadata": {},
   "source": [
    "---\n",
    "toc: true\n",
    "comments: false\n",
    "layout: post\n",
    "title: Week 6 Web Programming Basics, HTML, Data Type, DOM, Javascript, JS Debugging Hacks\n",
    "type: hacks\n",
    "---"
   ]
  },
  {
   "cell_type": "markdown",
   "metadata": {},
   "source": [
    "## HTML Hacks"
   ]
  },
  {
   "cell_type": "code",
   "execution_count": 4,
   "metadata": {
    "vscode": {
     "languageId": "html"
    }
   },
   "outputs": [
    {
     "data": {
      "text/html": [
       "<div>\n",
       "    <p>p element</p>\n",
       "    <button>button</button>\n",
       "</div>\n"
      ],
      "text/plain": [
       "<IPython.core.display.HTML object>"
      ]
     },
     "metadata": {},
     "output_type": "display_data"
    }
   ],
   "source": [
    "%%html\n",
    "<div>\n",
    "    <p>p element</p>\n",
    "    <button>button</button>\n",
    "</div>\n"
   ]
  },
  {
   "cell_type": "code",
   "execution_count": 8,
   "metadata": {
    "vscode": {
     "languageId": "html"
    }
   },
   "outputs": [
    {
     "data": {
      "text/html": [
       "<div>\n",
       "    <a href=\"https://tianbinliu.github.io/Personalblog3/2023/09/21/Sprite_IPYNB_2_.html\">Random link</a><br>\n",
       "    <a href=\"https://tianbinliu.github.io/Personalblog3/2023/09/21/Sprite_IPYNB_2_.html\">Random link</a>\n",
       "    <p>You know what it is</p>\n",
       "</div>\n"
      ],
      "text/plain": [
       "<IPython.core.display.HTML object>"
      ]
     },
     "metadata": {},
     "output_type": "display_data"
    }
   ],
   "source": [
    "%%html\n",
    "<div>\n",
    "    <a href=\"https://tianbinliu.github.io/Personalblog3/2023/09/21/Sprite_IPYNB_2_.html\">Random link</a><br>\n",
    "    <a href=\"https://tianbinliu.github.io/Personalblog3/2023/09/21/Sprite_IPYNB_2_.html\">Random link</a>\n",
    "    <p>You know what it is</p>\n",
    "</div>"
   ]
  },
  {
   "cell_type": "markdown",
   "metadata": {},
   "source": [
    "## Data Types Hacks"
   ]
  },
  {
   "cell_type": "code",
   "execution_count": 6,
   "metadata": {
    "vscode": {
     "languageId": "javascript"
    }
   },
   "outputs": [
    {
     "data": {
      "application/javascript": "//Create an object representing yourself as a person. The object should have keys for your name, age, current classes, interests, and two more of your choosing\nlet person = {\n    name:\"Tianbin\",\n    age:18,\n    currentclasses: \"CSSE\",\n    interests: [\"Video game, coding\"],//Your object must contain keys whose values are arrays. The arrays can be arrays of strings, numbers, or even other objects if you would like\n    gender: \"male\",\n    sport: \"soccer\"\n}\n//Print the entire object with console.log after declaring it\nconsole.log(person);\n//Manipulate the arrays within the object and print the entire object with console.log as well as the specific changed key afterwards\nperson.name=\"john\";\nconsole.log(person);\nconsole.log(person.name);\n\n//Perform mathematical operations on fields in your object such as +, -, /, % etc. and print the results with console.log along with a message contextualizing them\nperson.age += 3;\nconsole.log(person.age);\n\n//Use typeof to determine the types of at least 3 fields in your object\nconsole.log(typeof person.name);\nconsole.log(typeof person.age);\nconsole.log(typeof person.interests);\n",
      "text/plain": [
       "<IPython.core.display.Javascript object>"
      ]
     },
     "metadata": {},
     "output_type": "display_data"
    }
   ],
   "source": [
    "%%js\n",
    "//Create an object representing yourself as a person. The object should have keys for your name, age, current classes, interests, and two more of your choosing\n",
    "let person = {\n",
    "    name:\"Tianbin\",\n",
    "    age:18,\n",
    "    currentclasses: \"CSSE\",\n",
    "    interests: [\"Video game, coding\"],//Your object must contain keys whose values are arrays. The arrays can be arrays of strings, numbers, or even other objects if you would like\n",
    "    gender: \"male\",\n",
    "    sport: \"soccer\"\n",
    "}\n",
    "//Print the entire object with console.log after declaring it\n",
    "console.log(person);\n",
    "//Manipulate the arrays within the object and print the entire object with console.log as well as the specific changed key afterwards\n",
    "person.name=\"john\";\n",
    "console.log(person);\n",
    "console.log(person.name);\n",
    "\n",
    "//Perform mathematical operations on fields in your object such as +, -, /, % etc. and print the results with console.log along with a message contextualizing them\n",
    "person.age += 3;\n",
    "console.log(person.age);\n",
    "\n",
    "//Use typeof to determine the types of at least 3 fields in your object\n",
    "console.log(typeof person.name);\n",
    "console.log(typeof person.age);\n",
    "console.log(typeof person.interests);"
   ]
  },
  {
   "cell_type": "markdown",
   "metadata": {},
   "source": [
    "## DOM Hacks"
   ]
  },
  {
   "cell_type": "code",
   "execution_count": 15,
   "metadata": {
    "vscode": {
     "languageId": "html"
    }
   },
   "outputs": [
    {
     "data": {
      "text/html": [
       "\n",
       "<div>\n",
       "    <p>button to switch the two links below</p>\n",
       "    <button id=\"switch\" onclick=\"switchLink()\">button</button>\n",
       "</div>\n",
       "\n",
       "<div>\n",
       "    <a id=\"link1\" href=\"https://tianbinliu.github.io/Personalblog3/2023/09/21/Sprite_IPYNB_2_.html\">Random link</a><br>\n",
       "    <a id=\"link2\" href=\"https://tianbinliu.github.io/Personalblog3/2023/09/21/Sprite_IPYNB_2_.html\">Random link</a>\n",
       "</div>\n",
       "\n",
       "<script>\n",
       "    var myButton = document.getElementById(\"switch\");\n",
       "    var link1 = document.getElementById(\"link1\");\n",
       "    var link2 = document.getElementById(\"link2\");\n",
       "\n",
       "    function switchLink(){\n",
       "        link1.href=\"https://www.google.com/\";\n",
       "        link2.href=\"https://www.google.com/\";\n",
       "    }\n",
       "\n",
       "</script>\n"
      ],
      "text/plain": [
       "<IPython.core.display.HTML object>"
      ]
     },
     "metadata": {},
     "output_type": "display_data"
    }
   ],
   "source": [
    "%%html\n",
    "\n",
    "<div>\n",
    "    <p>button to switch the two links below</p>\n",
    "    <button id=\"switch\" onclick=\"switchLink()\">button</button>\n",
    "</div>\n",
    "\n",
    "<div>\n",
    "    <a id=\"link1\" href=\"https://tianbinliu.github.io/Personalblog3/2023/09/21/Sprite_IPYNB_2_.html\">Random link</a><br>\n",
    "    <a id=\"link2\" href=\"https://tianbinliu.github.io/Personalblog3/2023/09/21/Sprite_IPYNB_2_.html\">Random link</a>\n",
    "</div>\n",
    "\n",
    "<script>\n",
    "    var myButton = document.getElementById(\"switch\");\n",
    "    var link1 = document.getElementById(\"link1\");\n",
    "    var link2 = document.getElementById(\"link2\");\n",
    "\n",
    "    function switchLink(){\n",
    "        link1.href=\"https://www.google.com/\";\n",
    "        link2.href=\"https://www.google.com/\";\n",
    "    }\n",
    "\n",
    "</script>"
   ]
  },
  {
   "cell_type": "markdown",
   "metadata": {},
   "source": [
    "## Javascript Hacks"
   ]
  },
  {
   "cell_type": "code",
   "execution_count": 1,
   "metadata": {
    "vscode": {
     "languageId": "javascript"
    }
   },
   "outputs": [
    {
     "data": {
      "application/javascript": "\nvar a = 17\nvar b = 37\n\nif (a > b) {\n    // runs if age1 is more than age2\n    console.log(\"a is greater\")\n\n} else if (a === b) {\n    // runs if age1 and age2 are the same\n    console.log(\"both are equal\")\n\n// (age1 < age2)\n} else  {\n    // runs if age2 is more than age1\n    console.log(\"b is greater\")\n}\n",
      "text/plain": [
       "<IPython.core.display.Javascript object>"
      ]
     },
     "metadata": {},
     "output_type": "display_data"
    }
   ],
   "source": [
    "%%js\n",
    "\n",
    "var a = 17\n",
    "var b = 37\n",
    "\n",
    "if (a > b) {\n",
    "    // runs if age1 is more than age2\n",
    "    console.log(\"a is greater\")\n",
    "\n",
    "} else if (a === b) {\n",
    "    // runs if age1 and age2 are the same\n",
    "    console.log(\"both are equal\")\n",
    "\n",
    "// (age1 < age2)\n",
    "} else  {\n",
    "    // runs if age2 is more than age1\n",
    "    console.log(\"b is greater\")\n",
    "}\n"
   ]
  },
  {
   "cell_type": "markdown",
   "metadata": {},
   "source": [
    "## JS Debugging Hacks"
   ]
  },
  {
   "cell_type": "code",
   "execution_count": 9,
   "metadata": {
    "vscode": {
     "languageId": "javascript"
    }
   },
   "outputs": [
    {
     "data": {
      "application/javascript": "\nvar alphabet = \"abcdefghijklmnopqrstuvwxyz\";\nvar alphabetList = [];\n\nfor (var i = 0; i < alphabet.length; i++) {\n\talphabetList.push(alphabet.substring(i,i+1));\n}\n\nconsole.log(alphabetList);\n",
      "text/plain": [
       "<IPython.core.display.Javascript object>"
      ]
     },
     "metadata": {},
     "output_type": "display_data"
    }
   ],
   "source": [
    "%%js\n",
    "\n",
    "var alphabet = \"abcdefghijklmnopqrstuvwxyz\";\n",
    "var alphabetList = [];\n",
    "\n",
    "for (var i = 0; i < alphabet.length; i++) {\n",
    "\talphabetList.push(alphabet.substring(i,i+1));\n",
    "}\n",
    "\n",
    "console.log(alphabetList);"
   ]
  },
  {
   "cell_type": "code",
   "execution_count": 2,
   "metadata": {
    "vscode": {
     "languageId": "javascript"
    }
   },
   "outputs": [
    {
     "data": {
      "application/javascript": "\nvar alphabet = \"abcdefghijklmnopqrstuvwxyz\";\nvar alphabetList = [];\n\nfor (var i = 0; i < alphabet.length; i++) {\n\talphabetList.push(alphabet.substring(i,i+1));\n}\n\nconsole.log(alphabetList);\n\nlet letterNumber = 5\n\nfor (var i = 1; i < alphabetList.length; i++) {\n\tif (i === letterNumber) {\n\t\tconsole.log(alphabetList[i-1] + \" is letter number \" + letterNumber +\" in the alphabet\")\n\t}\n}\n\n",
      "text/plain": [
       "<IPython.core.display.Javascript object>"
      ]
     },
     "metadata": {},
     "output_type": "display_data"
    }
   ],
   "source": [
    "%%js\n",
    "\n",
    "var alphabet = \"abcdefghijklmnopqrstuvwxyz\";\n",
    "var alphabetList = [];\n",
    "\n",
    "for (var i = 0; i < alphabet.length; i++) {\n",
    "\talphabetList.push(alphabet.substring(i,i+1));\n",
    "}\n",
    "\n",
    "console.log(alphabetList);\n",
    "\n",
    "let letterNumber = 5\n",
    "\n",
    "for (var i = 1; i < alphabetList.length; i++) {\n",
    "\tif (i === letterNumber) {\n",
    "\t\tconsole.log(alphabetList[i-1] + \" is letter number \" + letterNumber +\" in the alphabet\")\n",
    "\t}\n",
    "}\n",
    "\n"
   ]
  },
  {
   "cell_type": "code",
   "execution_count": 1,
   "metadata": {
    "vscode": {
     "languageId": "javascript"
    }
   },
   "outputs": [
    {
     "data": {
      "application/javascript": "\nlet evens = [];\nlet i = 0;\n\nwhile (i < 10) {\n  if(i%2 === 1){\n    evens.push(i);\n  }\n  i += 2;\n}\n\nconsole.log(evens);\n",
      "text/plain": [
       "<IPython.core.display.Javascript object>"
      ]
     },
     "metadata": {},
     "output_type": "display_data"
    }
   ],
   "source": [
    "%%js\n",
    "\n",
    "let evens = [];\n",
    "let i = 0;\n",
    "\n",
    "while (i < 10) {\n",
    "  if(i%2 === 1){\n",
    "    evens.push(i);\n",
    "  }\n",
    "  i += 2;\n",
    "}\n",
    "\n",
    "console.log(evens);"
   ]
  }
 ],
 "metadata": {
  "kernelspec": {
   "display_name": "Python 3",
   "language": "python",
   "name": "python3"
  },
  "language_info": {
   "codemirror_mode": {
    "name": "ipython",
    "version": 3
   },
   "file_extension": ".py",
   "mimetype": "text/x-python",
   "name": "python",
   "nbconvert_exporter": "python",
   "pygments_lexer": "ipython3",
   "version": "3.10.9"
  },
  "orig_nbformat": 4
 },
 "nbformat": 4,
 "nbformat_minor": 2
}
