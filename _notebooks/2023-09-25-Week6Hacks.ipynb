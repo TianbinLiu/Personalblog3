{
 "cells": [
  {
   "cell_type": "markdown",
   "metadata": {},
   "source": [
    "---\n",
    "toc: true\n",
    "comments: false\n",
    "layout: post\n",
    "title: Week 6 Web Programming Basics, HTML, Data Type, DOM, Javascript, JS Debugging Hacks\n",
    "type: hacks\n",
    "---"
   ]
  },
  {
   "cell_type": "markdown",
   "metadata": {},
   "source": [
    "## HTML Hacks"
   ]
  },
  {
   "cell_type": "code",
   "execution_count": 4,
   "metadata": {
    "vscode": {
     "languageId": "html"
    }
   },
   "outputs": [
    {
     "data": {
      "text/html": [
       "<div>\n",
       "    <p>p element</p>\n",
       "    <button>button</button>\n",
       "</div>\n"
      ],
      "text/plain": [
       "<IPython.core.display.HTML object>"
      ]
     },
     "metadata": {},
     "output_type": "display_data"
    }
   ],
   "source": [
    "%%html\n",
    "<div>\n",
    "    <p>p element</p>\n",
    "    <button>button</button>\n",
    "</div>\n"
   ]
  },
  {
   "cell_type": "code",
   "execution_count": 5,
   "metadata": {
    "vscode": {
     "languageId": "html"
    }
   },
   "outputs": [
    {
     "data": {
      "text/html": [
       "<div>\n",
       "    <a href=\"https://tianbinliu.github.io/Personalblog3/2023/09/21/Sprite_IPYNB_2_.html\">Random link</a><br>\n",
       "    <a href=\"https://tianbinliu.github.io/Personalblog3/2023/09/21/Sprite_IPYNB_2_.html\">Random link</a>\n",
       "    <p>You know what it is</p>\n",
       "<div>\n"
      ],
      "text/plain": [
       "<IPython.core.display.HTML object>"
      ]
     },
     "metadata": {},
     "output_type": "display_data"
    }
   ],
   "source": [
    "%%html\n",
    "<div>\n",
    "    <a href=\"https://tianbinliu.github.io/Personalblog3/2023/09/21/Sprite_IPYNB_2_.html\">Random link</a><br>\n",
    "    <a href=\"https://tianbinliu.github.io/Personalblog3/2023/09/21/Sprite_IPYNB_2_.html\">Random link</a>\n",
    "    <p>You know what it is</p>\n",
    "<div>"
   ]
  },
  {
   "cell_type": "markdown",
   "metadata": {},
   "source": [
    "## Data Types Hacks"
   ]
  },
  {
   "cell_type": "code",
   "execution_count": 3,
   "metadata": {
    "vscode": {
     "languageId": "javascript"
    }
   },
   "outputs": [
    {
     "data": {
      "application/javascript": "\nlet person = {\n    name:\"Tianbin\",\n    age:18,\n    currentclasses: \"CSSE\",\n    interests: [\"Video game, coding\"],\n    gender: \"male\",\n    sport: \"soccer\"\n}\n\nconsole.log(person);\n",
      "text/plain": [
       "<IPython.core.display.Javascript object>"
      ]
     },
     "metadata": {},
     "output_type": "display_data"
    }
   ],
   "source": [
    "%%js\n",
    "let person = {\n",
    "    name:\"Tianbin\",\n",
    "    age:18,\n",
    "    currentclasses: \"CSSE\",\n",
    "    interests: [\"Video game, coding\"],\n",
    "    gender: \"male\",\n",
    "    sport: \"soccer\"\n",
    "}\n",
    "\n",
    "console.log(person);"
   ]
  }
 ],
 "metadata": {
  "kernelspec": {
   "display_name": "Python 3",
   "language": "python",
   "name": "python3"
  },
  "language_info": {
   "codemirror_mode": {
    "name": "ipython",
    "version": 3
   },
   "file_extension": ".py",
   "mimetype": "text/x-python",
   "name": "python",
   "nbconvert_exporter": "python",
   "pygments_lexer": "ipython3",
   "version": "3.10.9"
  },
  "orig_nbformat": 4
 },
 "nbformat": 4,
 "nbformat_minor": 2
}
