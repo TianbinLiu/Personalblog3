{
 "cells": [
  {
   "cell_type": "markdown",
   "metadata": {},
   "source": [
    "---\n",
    "toc: true\n",
    "comments: false\n",
    "layout: post\n",
    "title: Week4 Hacks\n",
    "type: hacks\n",
    "---"
   ]
  },
  {
   "cell_type": "markdown",
   "metadata": {},
   "source": [
    "### Calculator Reviews\n",
    "\n",
    "#### Description\n",
    "Build _post or _notebook in your Blog to contain all the hacks from JS Input lecture.\n",
    "\n",
    "#### Calculator Review\n",
    "It is a common belief that the best way to learn to code is to start coding on a project.\n",
    "\n",
    "In this task, you will work with the two provided calculators and adapt them to be your own. Customization to each Calculator, plus the customizations to the Snake game will prepare you to move to Animation.\n",
    "\n",
    " - The goal is to build notebook(s) and represent hacks in JS Input in your own blog.\n",
    "\n",
    " - Make sure you use skills described in JS Output w/Objects to help in debugging (ie console.log).\n",
    "\n",
    " - Make sure you use skills for writing to DOM describe in JS Ouput w/Objects.\n",
    "\n",
    " - Classroom time will be used to support students with questions.\n",
    "\n",
    "If you are feeling advanced…\n",
    "\n",
    "try to represent both calculation styles into a single web page. Consider your design, perhaps a Canva drawing, before you attempt the task.\n",
    "customize backgrounds, instead of VANTA images, play a background movie with CSS\n",
    "or any other idea of interest\n"
   ]
  }
 ],
 "metadata": {
  "language_info": {
   "name": "python"
  },
  "orig_nbformat": 4
 },
 "nbformat": 4,
 "nbformat_minor": 2
}
