{
 "cells": [
  {
   "cell_type": "markdown",
   "metadata": {},
   "source": [
    "---\n",
    "toc: true\n",
    "comments: false\n",
    "layout: post\n",
    "title: Review of JS, JS input and output.\n",
    "type: hacks\n",
    "---"
   ]
  },
  {
   "cell_type": "markdown",
   "metadata": {},
   "source": [
    "### Create Element\n",
    "The createElement() method creates an element node."
   ]
  },
  {
   "cell_type": "code",
   "execution_count": null,
   "metadata": {
    "vscode": {
     "languageId": "javascript"
    }
   },
   "outputs": [],
   "source": [
    "// Create a <p> element and append it to the document:\n",
    "const para = document.createElement(\"p\"); //create a <p> element equal to a object named para\n",
    "para.innerText = \"This is a paragraph\";   //add text to the element\n",
    "document.body.appendChild(para);          //put the <p> element under <body>"
   ]
  },
  {
   "cell_type": "code",
   "execution_count": null,
   "metadata": {
    "vscode": {
     "languageId": "javascript"
    }
   },
   "outputs": [],
   "source": [
    "//Create a <p> element and append it to an element:\n",
    "const para = document.createElement(\"p\");  //Same, create the element\n",
    "para.innerHTML = \"This is a paragraph.\";   //Same, add text to element\n",
    "document.getElementById(\"myDIV\").appendChild(para);\n",
    "//put the <p> element under the element(maybe <div>) that has an id called \"myDIV\"\n",
    "//like below\n",
    "<div id=\"myDIV\">\n",
    "    <p>\"This is a paragraph.\"</p>\n",
    "</div>"
   ]
  },
  {
   "cell_type": "markdown",
   "metadata": {},
   "source": [
    "### Set Attribute\n",
    "The setAttribute() method sets a new value to an attribute.\n",
    "\n",
    "If the attribute does not exist, it is created first.\n",
    "\n",
    "element.setAttribute(name, value)"
   ]
  },
  {
   "cell_type": "code",
   "execution_count": null,
   "metadata": {
    "vscode": {
     "languageId": "html"
    }
   },
   "outputs": [],
   "source": [
    "<style> \n",
    "    .democlass {            \n",
    "        color: red;\n",
    "    }\n",
    "</style>\n",
    "\n",
    "<body>\n",
    "    <h1 id=\"myH1\">The Element Object</h1>\n",
    "    <h2>The setAttribute() Method</h2>\n",
    "\n",
    "    <button onclick=\"myFunction()\">Add Class</button>\n",
    "\n",
    "    <script>\n",
    "        function myFunction() {\n",
    "            document.getElementById(\"myH1\").setAttribute(\"class\", \"democlass\");\n",
    "        }\n",
    "    </script>\n",
    "</body>"
   ]
  },
  {
   "cell_type": "markdown",
   "metadata": {},
   "source": [
    "### Get Elements by ID"
   ]
  },
  {
   "cell_type": "code",
   "execution_count": null,
   "metadata": {
    "vscode": {
     "languageId": "javascript"
    }
   },
   "outputs": [],
   "source": [
    "//Get the element with the specified id:\n",
    "\n",
    "document.getElementById(\"demo\");"
   ]
  },
  {
   "cell_type": "code",
   "execution_count": null,
   "metadata": {
    "vscode": {
     "languageId": "javascript"
    }
   },
   "outputs": [],
   "source": [
    "//Get the element and change its color:\n",
    "\n",
    "const myElement = document.getElementById(\"demo\");\n",
    "myElement.style.color = \"red\";"
   ]
  },
  {
   "cell_type": "code",
   "execution_count": null,
   "metadata": {
    "vscode": {
     "languageId": "javascript"
    }
   },
   "outputs": [],
   "source": [
    "//Or just change its color directly:\n",
    "\n",
    "document.getElementById(\"demo\").style.color = \"red\";"
   ]
  },
  {
   "cell_type": "markdown",
   "metadata": {},
   "source": [
    "### Get Elements by Name"
   ]
  },
  {
   "cell_type": "code",
   "execution_count": null,
   "metadata": {
    "vscode": {
     "languageId": "javascript"
    }
   },
   "outputs": [],
   "source": [
    "//Get all elements with the name \"fname\":\n",
    "\n",
    "let elements = document.getElementsByName(\"fname\");"
   ]
  },
  {
   "cell_type": "markdown",
   "metadata": {},
   "source": [
    "Example of how to use it"
   ]
  },
  {
   "cell_type": "code",
   "execution_count": null,
   "metadata": {
    "vscode": {
     "languageId": "html"
    }
   },
   "outputs": [],
   "source": [
    "<p>First Name: <input name=\"fname\" type=\"text\" value=\"Michael\"></p>\n",
    "<p>First Name: <input name=\"fname\" type=\"text\" value=\"Doug\"></p>\n",
    "\n",
    "<p>The tag name of the first element with the name \"fname\" is:</p>\n",
    "\n",
    "<p id=\"demo\"></p>\n",
    "\n",
    "<script>\n",
    "let elements = document.getElementsByName(\"fname\");\n",
    "document.getElementById(\"demo\").innerHTML = elements[0].value; //which should return Michael\n",
    "</script>"
   ]
  },
  {
   "cell_type": "code",
   "execution_count": null,
   "metadata": {
    "vscode": {
     "languageId": "javascript"
    }
   },
   "outputs": [],
   "source": [
    "//Number of elements with name=\"animal\":\n",
    "\n",
    "let num = document.getElementsByName(\"animal\").length; //return an integer\n"
   ]
  }
 ],
 "metadata": {
  "language_info": {
   "name": "python"
  },
  "orig_nbformat": 4
 },
 "nbformat": 4,
 "nbformat_minor": 2
}
