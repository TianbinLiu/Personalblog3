{
 "cells": [
  {
   "cell_type": "markdown",
   "metadata": {},
   "source": [
    "---\n",
    "toc: true\n",
    "comments: false\n",
    "layout: post\n",
    "title: Review of JS, JS input and output.\n",
    "type: hacks\n",
    "---"
   ]
  },
  {
   "cell_type": "markdown",
   "metadata": {},
   "source": [
    "### Create Element"
   ]
  },
  {
   "cell_type": "code",
   "execution_count": null,
   "metadata": {
    "vscode": {
     "languageId": "javascript"
    }
   },
   "outputs": [],
   "source": [
    "// Create a <p> element and append it to the document:\n",
    "const para = document.createElement(\"p\"); //create a <p> element equal to a object named para\n",
    "para.innerText = \"This is a paragraph\";   //add text to the element\n",
    "document.body.appendChild(para);          //put the <p> element under <body>"
   ]
  },
  {
   "cell_type": "code",
   "execution_count": null,
   "metadata": {
    "vscode": {
     "languageId": "javascript"
    }
   },
   "outputs": [],
   "source": [
    "//Create a <p> element and append it to an element:\n",
    "const para = document.createElement(\"p\");  //Same, create the element\n",
    "para.innerHTML = \"This is a paragraph.\";   //Same, add text to element\n",
    "document.getElementById(\"myDIV\").appendChild(para);  \n",
    "//put the <p> element under the element(maybe <div>) that has an id called \"myDIV\"\n",
    "//like below\n",
    "<div id=\"myDIV\">\n",
    "    <p>\"This is a paragraph.\"</p> \n",
    "</div>"
   ]
  }
 ],
 "metadata": {
  "language_info": {
   "name": "python"
  },
  "orig_nbformat": 4
 },
 "nbformat": 4,
 "nbformat_minor": 2
}
