{
 "cells": [
  {
   "cell_type": "markdown",
   "metadata": {},
   "source": [
    "---\n",
    "toc: true\n",
    "comments: true\n",
    "layout: post\n",
    "title: Final Work Check\n",
    "type: hacks\n",
    "---"
   ]
  },
  {
   "cell_type": "markdown",
   "metadata": {},
   "source": [
    "## Combat System\n",
    "### During the game loop(the function below, which will run repeatedly), I add a if-statement to check if the boolean valuable \"Battle\" is set to true or not. If it is set as true, that means the user has already attack the monster on the map, and the game should change to Combat mode. As the \"Battle\" is set to true, every time the function startGameLoop repeat, the battle() will also run again"
   ]
  },
  {
   "cell_type": "code",
   "execution_count": null,
   "metadata": {
    "vscode": {
     "languageId": "javascript"
    }
   },
   "outputs": [],
   "source": [
    "  startGameLoop() {\n",
    "    const step = () => {\n",
    "      // Clear off the canvas\n",
    "      this.ctx.clearRect(0, 0, this.canvas.width, this.canvas.height);\n",
    "\n",
    "      // Establish the camera person\n",
    "      const cameraPerson = this.map.gameObjects.hero;\n",
    "\n",
    "      // Update all objects\n",
    "      Object.values(this.map.gameObjects).forEach(object => {\n",
    "        object.update({\n",
    "          map: this.map,\n",
    "        });\n",
    "      });\n",
    "\n",
    "      // Draw Lower layer\n",
    "      this.map.drawLowerImage(this.ctx, cameraPerson);\n",
    "\n",
    "      // Draw Game Objects\n",
    "      Object.values(this.map.gameObjects).sort((a, b) => {\n",
    "        return a.y - b.y;\n",
    "      }).forEach(object => {\n",
    "        object.sprite.draw(this.ctx, cameraPerson);\n",
    "      });\n",
    "\n",
    "      // Draw Upper layer\n",
    "      this.map.drawUpperImage(this.ctx, cameraPerson);\n",
    "\n",
    "      if(Battle){\n",
    "        this.map.battle();   //activate combat mode\n",
    "      }\n",
    "\n",
    "      requestAnimationFrame(() => {\n",
    "        step();\n",
    "      });\n",
    "    };\n",
    "    step();\n",
    "  }"
   ]
  },
  {
   "cell_type": "markdown",
   "metadata": {},
   "source": [
    "### To change the boolean valuable \"Battle\", I set up a KeyPressListener, every time when the user press \"Enter\", it will run the function checkForActionCutscene(). The if-statement with condition \"canMove\" is to check if the character control by the user is in world event(such as conversation with npc, if the user is already in the conversation with npc, the \"canMove\" will set to false so that the character control by the user cannot move anymore) or not. If the user is already in such world event(\"canMove\" = false) or the user is already in combat mode(\"Battle\" = true), then user cannot attack and activate combat mode."
   ]
  },
  {
   "cell_type": "code",
   "execution_count": null,
   "metadata": {
    "vscode": {
     "languageId": "javascript"
    }
   },
   "outputs": [],
   "source": [
    "if (canMove) {\n",
    "    new KeyPressListener(\"Space\", () => {\n",
    "      if(!Battle){\n",
    "        this.map.checkForBattle();\n",
    "      }\n",
    "    });\n",
    "  }"
   ]
  },
  {
   "cell_type": "markdown",
   "metadata": {},
   "source": [
    "### the function checkForBattle() below is used to check if the user's character is \"touch\"/near the monster or not (confirm that the user's attack actually hit the monster/NPCs). It also check the object user attack to is a NPC, monster, or object on the map, and based on who the user attack to, it will run different if-statement and have different effects to it. "
   ]
  },
  {
   "cell_type": "code",
   "execution_count": null,
   "metadata": {
    "vscode": {
     "languageId": "javascript"
    }
   },
   "outputs": [],
   "source": [
    "checkForBattle() {\n",
    "    const hero = this.gameObjects[\"hero\"];\n",
    "    const nextCoords = utils.heronextPosition(hero.x, hero.y, hero.direction);\n",
    "    const match = Object.values(this.gameObjects).find(object => {\n",
    "      if (object.isMounted) {\n",
    "        if ((((nextCoords.x) >= (object.Wallx) && ((nextCoords.x - object.WallSizex) <= (object.Wallx + object.WallSizex))) && ((nextCoords.y >= (object.Wally)) && (nextCoords.y <= (object.Wally + (object.WallSizey)))))) {\n",
    "          object.reach = true;\n",
    "        }\n",
    "        return object.reach;\n",
    "      }\n",
    "    });\n",
    "    if (!this.isCutscenePlaying && match && match.alive) {\n",
    "      match.hp -= 1;\n",
    "      if (match.hp > 0) {\n",
    "        setTimeout(() => {\n",
    "          this.startCutscene(match.talking[1].Receiveattackevents, match.alive);\n",
    "        }, 500); // Delay for 0.5 second (500 milliseconds)\n",
    "      }\n",
    "      else if (match.hp <= 0) {\n",
    "        setTimeout(() => {\n",
    "          this.startCutscene(match.talking[2].death, match.alive);\n",
    "        }, 500); // Delay for 0.5 second (500 milliseconds)\n",
    "\n",
    "        match.alive = false;\n",
    "        match.createSprite();\n",
    "        console.log(match)\n",
    "        match.behaviorLoop = [];\n",
    "        if (typeof (this.cutsceneSpaces[match.id]) !== \"undefined\") {\n",
    "          this.cutsceneSpaces[match.id][0].events = {};\n",
    "        }\n",
    "        match.isMounted = false;\n",
    "      }\n",
    "      if(match.monster){\n",
    "        Battle = true;\n",
    "        match.behaviorLoop = [];\n",
    "        battlepreperation();\n",
    "        window.OverworldMaps[match.type + \"battle\"].gameObjects[match.type].src = match.src;\n",
    "        window.OverworldMaps[match.type + \"battle\"].gameObjects[match.type].createSprite();\n",
    "        this.startCutscene(this.cutsceneSpaces[match.type + \"battle\"][0].events, match.alive)\n",
    "        match.alive = false;\n",
    "        match.isMounted = false;\n",
    "        setTimeout(() => {\n",
    "          match.createSprite();\n",
    "        }, 500); \n",
    "        if(persondirection === \"left\"){\n",
    "          window.OverworldMaps[match.type + \"battle\"].gameObjects[\"hero\"].x = utils.withGrid(19);\n",
    "          window.OverworldMaps[match.type + \"battle\"].gameObjects[\"hero\"].direction = \"left\";\n",
    "          window.OverworldMaps[match.type + \"battle\"].gameObjects[match.type].x = utils.withGrid(12);\n",
    "        }\n",
    "        else if(persondirection === \"right\"){\n",
    "          window.OverworldMaps[match.type + \"battle\"].gameObjects[\"hero\"].x = utils.withGrid(12);\n",
    "          window.OverworldMaps[match.type + \"battle\"].gameObjects[\"hero\"].direction = \"right\";\n",
    "          window.OverworldMaps[match.type + \"battle\"].gameObjects[match.type].x = utils.withGrid(21);\n",
    "          window.OverworldMaps[match.type + \"battle\"].gameObjects[match.type].direction = \"left\";\n",
    "        }\n",
    "      }\n",
    "\n",
    "    }\n",
    "  }"
   ]
  },
  {
   "cell_type": "markdown",
   "metadata": {},
   "source": [
    "### the function changeMap() below is used to change the background/map of the game. changeMap itself is one of the world events list inside cutsceneSpaces. So that based on what type of object the user attack to (monster, npc, or object), it will change to different maps"
   ]
  },
  {
   "cell_type": "code",
   "execution_count": null,
   "metadata": {
    "vscode": {
     "languageId": "javascript"
    }
   },
   "outputs": [],
   "source": [
    "this.startCutscene(this.cutsceneSpaces[match.type + \"battle\"][0].events, match.alive)\n",
    "//-------------------------------------------------------------------\n",
    "marketplace: new Person({\n",
    "  isMounted: true,\n",
    "  x: utils.withGrid(15),\n",
    "  y: utils.withGrid(24),\n",
    "  Wallx: utils.withGrid(13),\n",
    "  Wally: utils.withGrid(24),\n",
    "  WallSizex: utils.withGrid(2),\n",
    "  WallSizey: utils.withGrid(1),\n",
    "  sizex: 196,\n",
    "  sizey: 228,\n",
    "  reach: false,\n",
    "  id: \"marketplace\",\n",
    "  type: \"object\",   // type of object\n",
    "  ifdialogue: true,\n",
    "  src: \"https://tianbinliu.github.io/CSSE-Tri1-FinalProject/images/characters/marketplace.png\",\n",
    "}),\n",
    "slime: new Person({\n",
    "  isMounted: true,\n",
    "  x: utils.withGrid(15),\n",
    "  y: utils.withGrid(30),\n",
    "  Wallx: utils.withGrid(13.5),\n",
    "  Wally: utils.withGrid(28.5),\n",
    "  WallSizex: utils.withGrid(1),\n",
    "  WallSizey: utils.withGrid(1),\n",
    "  sizex: 32,\n",
    "  sizey: 32,\n",
    "  hp: 2,\n",
    "  reach: false,\n",
    "  alive: true,\n",
    "  id: \"slime\",\n",
    "  monster: true,\n",
    "  type: \"slime\", //type of object\n",
    "  ifdialogue: true,\n",
    "  ...\n",
    "}),\n",
    "//-------------------------------------------------------------------\n",
    "changeMap(resolve) {\n",
    "  const sceneTransition = new SceneTransition();\n",
    "  sceneTransition.init(document.querySelector(\".game-container\"), () => {\n",
    "  this.map.overworld.startMap(window.OverworldMaps[this.event.map]);\n",
    "  resolve();\n",
    "    sceneTransition.fadeOut();\n",
    "  })\n",
    "}\n",
    "\n",
    "//-----------------------------------------------\n",
    "cutsceneSpaces: {\n",
    "    [\"slimebattle\"]:[\n",
    "      {\n",
    "        events:[\n",
    "          {type: \"changeMap\", map: \"slimebattle\" }\n",
    "        ]\n",
    "      }\n",
    "    ],\n",
    "    [\"marketplace\"]:[\n",
    "      {\n",
    "        events:[\n",
    "          {type: \"changeMap\", map: \"marketplace\" }\n",
    "        ]\n",
    "      }\n",
    "    ]\n",
    "  }"
   ]
  },
  {
   "cell_type": "markdown",
   "metadata": {},
   "source": [
    "### And same for other world event like different attacks or the different dialogs/textmessenge."
   ]
  },
  {
   "cell_type": "code",
   "execution_count": null,
   "metadata": {
    "vscode": {
     "languageId": "javascript"
    }
   },
   "outputs": [],
   "source": [
    "cutsceneSpaces: {\n",
    "\n",
    "    [\"heroFirst\"]:[\n",
    "      {\n",
    "        events: [\n",
    "          { type: \"textMessage\", text: \"Note: Now you're in trouble!\" },\n",
    "          { type: \"textMessage\", text: \"You will have a fair battle with a slime!\" },\n",
    "          { type: \"textMessage\", text: \"This will be a turn-base battle\" },\n",
    "          { type: \"textMessage\", text: \"You need to use number key 1/2/3/4 to attack and activate your skills!\" },\n",
    "          { type: \"textMessage\", text: \"Now enjor your battle!\" },\n",
    "          { type: \"textMessage\", text: \"You Start First\" },\n",
    "        ]\n",
    "      }\n",
    "    ],\n",
    "    [\"slimeFirst\"]:[\n",
    "      {\n",
    "        events: [\n",
    "          { type: \"textMessage\", text: \"Note: Now you're in trouble!\" },\n",
    "          { type: \"textMessage\", text: \"You will have a fair battle with a slime!\" },\n",
    "          { type: \"textMessage\", text: \"This will be a turn-base battle\" },\n",
    "          { type: \"textMessage\", text: \"You need to use number key 1/2/3/4 to attack and activate your skills!\" },\n",
    "          { type: \"textMessage\", text: \"Now enjor your battle!\" },\n",
    "          { type: \"textMessage\", text: \"Slime Start First\" },\n",
    "        ]\n",
    "      }\n",
    "    ],\n",
    "    [\"slimeattackleft\"]: [\n",
    "      {\n",
    "        events: [\n",
    "          { who: \"slime\", type: \"walk\", direction: \"left\", spritedirection: \"left\" },\n",
    "          { who: \"slime\", type: \"walk\", direction: \"left\", spritedirection: \"left\" },\n",
    "          { who: \"slime\", type: \"walk\", direction: \"left\", spritedirection: \"left\" },\n",
    "          { who: \"slime\", type: \"walk\", direction: \"left\", spritedirection: \"left\" },\n",
    "          { who: \"slime\", type: \"walk\", direction: \"left\", spritedirection: \"left\" },\n",
    "          { who: \"slime\", type: \"walk\", direction: \"left\", spritedirection: \"left\" },\n",
    "          { who: \"slime\", type: \"walk\", direction: \"left\", spritedirection: \"left\" },\n",
    "          { who: \"slime\", type: \"walk\", direction: \"left\", spritedirection: \"left\" },\n",
    "          { type: \"textMessage\", text: \"Slime attack! \" },\n",
    "          { who: \"slime\", type: \"stand\", direction: \"left\", time: 500 },\n",
    "          { who: \"slime\", type: \"attack\", direction: \"left\", spritedirection: \"left\" },\n",
    "          { type: \"textMessage\", text: \"You receive 1 demage\" },\n",
    "          { who: \"slime\", type: \"stand\", direction: \"right\", time: 500 },\n",
    "          { who: \"slime\", type: \"walk\", direction: \"right\", spritedirection: \"right\" },\n",
    "          { who: \"slime\", type: \"walk\", direction: \"right\", spritedirection: \"right\"  },\n",
    "          { who: \"slime\", type: \"walk\", direction: \"right\", spritedirection: \"right\" },\n",
    "          { who: \"slime\", type: \"walk\", direction: \"right\", spritedirection: \"right\"  },\n",
    "          { who: \"slime\", type: \"walk\", direction: \"right\", spritedirection: \"right\" },\n",
    "          { who: \"slime\", type: \"walk\", direction: \"right\", spritedirection: \"right\"  },\n",
    "          { who: \"slime\", type: \"walk\", direction: \"right\", spritedirection: \"right\" },\n",
    "          { who: \"slime\", type: \"walk\", direction: \"right\", spritedirection: \"right\"  },\n",
    "          { who: \"slime\", type: \"stand\", direction: \"left\", time: 500 },\n",
    "          { type: \"textMessage\", text: \"Your Turn!\" },\n",
    "          { type: \"textMessage\", text: \"Normal attack(key 1)/Crescent(key 2)/Upslash(key 3)/Flurry(key 4)\" },\n",
    "        ]\n",
    "      }\n",
    "    ],\n",
    "    ...\n",
    "  }"
   ]
  },
  {
   "cell_type": "markdown",
   "metadata": {},
   "source": [
    "## I have more stuffs to show up, but you know everything are connected to each other, if I want to explain deeply, then I might need to explain the whole projects... I think what I have right now are enough to present my work for this trimester and can prove that I'm fully participate in it."
   ]
  }
 ],
 "metadata": {
  "kernelspec": {
   "display_name": "Python 3",
   "language": "python",
   "name": "python3"
  },
  "language_info": {
   "codemirror_mode": {
    "name": "ipython",
    "version": 3
   },
   "file_extension": ".py",
   "mimetype": "text/x-python",
   "name": "python",
   "nbconvert_exporter": "python",
   "pygments_lexer": "ipython3",
   "version": "3.10.9"
  }
 },
 "nbformat": 4,
 "nbformat_minor": 2
}
