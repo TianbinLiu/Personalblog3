{
 "cells": [
  {
   "cell_type": "markdown",
   "metadata": {},
   "source": [
    "---\n",
    "toc: true\n",
    "comments: false\n",
    "layout: post\n",
    "description: That is what it is. And don't ask me about the calculator, i don't know it doesn't involve not even a single code of javascript before I followed the whole tutorial! :| )\n",
    "title: Week1 Hacks\n",
    "type: hacks\n",
    "---"
   ]
  },
  {
   "cell_type": "markdown",
   "metadata": {},
   "source": [
    "## Week 1 hacks\n",
    "\n",
    "* Start the week by READING Canvas and making a Plan. Here is a sample plan, but this should be personalized and reviewed as pairs.\n",
    "\n",
    "* Make Lab Notebook rows/columns for each week 0, 1, 2. Make a hack (IPYNB) and review/exit ticket for each row. Review student page as guide https://nighthawkcoders.github.io/student/compsci\n",
    "\n",
    "* Get my github.io public site running. This will work after GitHub sync. Here are some key references for GitHub: https://nighthawkcoders.github.io/student/2023/08/26/GitHub_Sync.html\n",
    "\n",
    "* Work on revising my IPYNB file(s) and add in my required Hacks. Learn how to do “Code Fencing”, “Code Cells”. Revise Linux Shell IPYNB, prune and perform hacks to match my understanding.\n",
    "\n",
    "* Revise Home Page to only be a Lab Notebook Cover sheet, Remove some of the content that I mistakingly put on this page regarding weekly plans and hacks …. move this information into my Lab Notebook rows/columns.\n",
    "\n",
    "* Work on adding a Project, my choice will be a Calculator and I will add it as an independent _post that will be in Week1 hacks of my Notebook."
   ]
  }
 ],
 "metadata": {
  "language_info": {
   "name": "python"
  },
  "orig_nbformat": 4
 },
 "nbformat": 4,
 "nbformat_minor": 2
}
